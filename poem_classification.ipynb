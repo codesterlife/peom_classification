{
 "cells": [
  {
   "cell_type": "markdown",
   "metadata": {
    "id": "z8wRwqmpvI8w"
   },
   "source": [
    "# Genre based poem classification using NLP and Machine Learning\n",
    "\n",
    "### Data Source: [Kaggle](https://www.kaggle.com/datasets/ramjasmaurya/poem-classification-nlp)"
   ]
  },
  {
   "cell_type": "code",
   "execution_count": 235,
   "metadata": {
    "_cell_guid": "b1076dfc-b9ad-4769-8c92-a6c4dae69d19",
    "_uuid": "8f2839f25d086af736a60e9eeb907d3b93b6e0e5",
    "execution": {
     "iopub.execute_input": "2023-03-01T11:59:13.879475Z",
     "iopub.status.busy": "2023-03-01T11:59:13.878987Z",
     "iopub.status.idle": "2023-03-01T11:59:13.924516Z",
     "shell.execute_reply": "2023-03-01T11:59:13.923378Z",
     "shell.execute_reply.started": "2023-03-01T11:59:13.879431Z"
    },
    "id": "IZpMYCfH2IIi"
   },
   "outputs": [],
   "source": [
    "import numpy as np\n",
    "import pandas as pd\n",
    "import seaborn as sns\n",
    "import matplotlib.pyplot as plt\n",
    "import nltk"
   ]
  },
  {
   "cell_type": "code",
   "execution_count": 236,
   "metadata": {
    "execution": {
     "iopub.execute_input": "2023-03-01T12:02:13.750719Z",
     "iopub.status.busy": "2023-03-01T12:02:13.749291Z",
     "iopub.status.idle": "2023-03-01T12:02:13.765792Z",
     "shell.execute_reply": "2023-03-01T12:02:13.764859Z",
     "shell.execute_reply.started": "2023-03-01T12:02:13.750673Z"
    },
    "id": "yNdkERch2IIq"
   },
   "outputs": [],
   "source": [
    "test_df = pd.read_csv(\"/content/sample_data/Poem_classification - test_data.csv\", encoding=\"UTF-8\")\n",
    "train_df = pd.read_csv(\"/content/sample_data/Poem_classification - train_data.csv\", encoding=\"UTF-8\")"
   ]
  },
  {
   "cell_type": "code",
   "execution_count": 237,
   "metadata": {
    "colab": {
     "base_uri": "https://localhost:8080/",
     "height": 423
    },
    "execution": {
     "iopub.execute_input": "2023-03-01T12:02:56.551008Z",
     "iopub.status.busy": "2023-03-01T12:02:56.550564Z",
     "iopub.status.idle": "2023-03-01T12:02:56.562358Z",
     "shell.execute_reply": "2023-03-01T12:02:56.561099Z",
     "shell.execute_reply.started": "2023-03-01T12:02:56.550969Z"
    },
    "id": "MOswK78N2IIr",
    "outputId": "df725d80-5da5-448e-d5d8-c2019b6a6a32"
   },
   "outputs": [
    {
     "data": {
      "text/html": [
       "\n",
       "  <div id=\"df-8188bc45-1dbe-44b6-8ed9-4e9756687acc\">\n",
       "    <div class=\"colab-df-container\">\n",
       "      <div>\n",
       "<style scoped>\n",
       "    .dataframe tbody tr th:only-of-type {\n",
       "        vertical-align: middle;\n",
       "    }\n",
       "\n",
       "    .dataframe tbody tr th {\n",
       "        vertical-align: top;\n",
       "    }\n",
       "\n",
       "    .dataframe thead th {\n",
       "        text-align: right;\n",
       "    }\n",
       "</style>\n",
       "<table border=\"1\" class=\"dataframe\">\n",
       "  <thead>\n",
       "    <tr style=\"text-align: right;\">\n",
       "      <th></th>\n",
       "      <th>Genre</th>\n",
       "      <th>Poem</th>\n",
       "    </tr>\n",
       "  </thead>\n",
       "  <tbody>\n",
       "    <tr>\n",
       "      <th>0</th>\n",
       "      <td>Music</td>\n",
       "      <td>NaN</td>\n",
       "    </tr>\n",
       "    <tr>\n",
       "      <th>1</th>\n",
       "      <td>Music</td>\n",
       "      <td>In the thick brushthey spend the...</td>\n",
       "    </tr>\n",
       "    <tr>\n",
       "      <th>2</th>\n",
       "      <td>Music</td>\n",
       "      <td>Storms are generous.                       ...</td>\n",
       "    </tr>\n",
       "    <tr>\n",
       "      <th>3</th>\n",
       "      <td>Music</td>\n",
       "      <td>—After Ana Mendieta Did you carry around the ...</td>\n",
       "    </tr>\n",
       "    <tr>\n",
       "      <th>4</th>\n",
       "      <td>Music</td>\n",
       "      <td>for Aja Sherrard at 20The portent may itself ...</td>\n",
       "    </tr>\n",
       "    <tr>\n",
       "      <th>...</th>\n",
       "      <td>...</td>\n",
       "      <td>...</td>\n",
       "    </tr>\n",
       "    <tr>\n",
       "      <th>145</th>\n",
       "      <td>Environment</td>\n",
       "      <td>To pick a tulip from the garden, the red one. ...</td>\n",
       "    </tr>\n",
       "    <tr>\n",
       "      <th>146</th>\n",
       "      <td>Environment</td>\n",
       "      <td>We are as clouds that veil the midnight moon; ...</td>\n",
       "    </tr>\n",
       "    <tr>\n",
       "      <th>147</th>\n",
       "      <td>Environment</td>\n",
       "      <td>When pulled, the spider web took another form....</td>\n",
       "    </tr>\n",
       "    <tr>\n",
       "      <th>148</th>\n",
       "      <td>Environment</td>\n",
       "      <td>Whose woods these are I think I know. His hous...</td>\n",
       "    </tr>\n",
       "    <tr>\n",
       "      <th>149</th>\n",
       "      <td>Environment</td>\n",
       "      <td>you can make the maples blazejust by stopping ...</td>\n",
       "    </tr>\n",
       "  </tbody>\n",
       "</table>\n",
       "<p>991 rows × 2 columns</p>\n",
       "</div>\n",
       "      <button class=\"colab-df-convert\" onclick=\"convertToInteractive('df-8188bc45-1dbe-44b6-8ed9-4e9756687acc')\"\n",
       "              title=\"Convert this dataframe to an interactive table.\"\n",
       "              style=\"display:none;\">\n",
       "        \n",
       "  <svg xmlns=\"http://www.w3.org/2000/svg\" height=\"24px\"viewBox=\"0 0 24 24\"\n",
       "       width=\"24px\">\n",
       "    <path d=\"M0 0h24v24H0V0z\" fill=\"none\"/>\n",
       "    <path d=\"M18.56 5.44l.94 2.06.94-2.06 2.06-.94-2.06-.94-.94-2.06-.94 2.06-2.06.94zm-11 1L8.5 8.5l.94-2.06 2.06-.94-2.06-.94L8.5 2.5l-.94 2.06-2.06.94zm10 10l.94 2.06.94-2.06 2.06-.94-2.06-.94-.94-2.06-.94 2.06-2.06.94z\"/><path d=\"M17.41 7.96l-1.37-1.37c-.4-.4-.92-.59-1.43-.59-.52 0-1.04.2-1.43.59L10.3 9.45l-7.72 7.72c-.78.78-.78 2.05 0 2.83L4 21.41c.39.39.9.59 1.41.59.51 0 1.02-.2 1.41-.59l7.78-7.78 2.81-2.81c.8-.78.8-2.07 0-2.86zM5.41 20L4 18.59l7.72-7.72 1.47 1.35L5.41 20z\"/>\n",
       "  </svg>\n",
       "      </button>\n",
       "      \n",
       "  <style>\n",
       "    .colab-df-container {\n",
       "      display:flex;\n",
       "      flex-wrap:wrap;\n",
       "      gap: 12px;\n",
       "    }\n",
       "\n",
       "    .colab-df-convert {\n",
       "      background-color: #E8F0FE;\n",
       "      border: none;\n",
       "      border-radius: 50%;\n",
       "      cursor: pointer;\n",
       "      display: none;\n",
       "      fill: #1967D2;\n",
       "      height: 32px;\n",
       "      padding: 0 0 0 0;\n",
       "      width: 32px;\n",
       "    }\n",
       "\n",
       "    .colab-df-convert:hover {\n",
       "      background-color: #E2EBFA;\n",
       "      box-shadow: 0px 1px 2px rgba(60, 64, 67, 0.3), 0px 1px 3px 1px rgba(60, 64, 67, 0.15);\n",
       "      fill: #174EA6;\n",
       "    }\n",
       "\n",
       "    [theme=dark] .colab-df-convert {\n",
       "      background-color: #3B4455;\n",
       "      fill: #D2E3FC;\n",
       "    }\n",
       "\n",
       "    [theme=dark] .colab-df-convert:hover {\n",
       "      background-color: #434B5C;\n",
       "      box-shadow: 0px 1px 3px 1px rgba(0, 0, 0, 0.15);\n",
       "      filter: drop-shadow(0px 1px 2px rgba(0, 0, 0, 0.3));\n",
       "      fill: #FFFFFF;\n",
       "    }\n",
       "  </style>\n",
       "\n",
       "      <script>\n",
       "        const buttonEl =\n",
       "          document.querySelector('#df-8188bc45-1dbe-44b6-8ed9-4e9756687acc button.colab-df-convert');\n",
       "        buttonEl.style.display =\n",
       "          google.colab.kernel.accessAllowed ? 'block' : 'none';\n",
       "\n",
       "        async function convertToInteractive(key) {\n",
       "          const element = document.querySelector('#df-8188bc45-1dbe-44b6-8ed9-4e9756687acc');\n",
       "          const dataTable =\n",
       "            await google.colab.kernel.invokeFunction('convertToInteractive',\n",
       "                                                     [key], {});\n",
       "          if (!dataTable) return;\n",
       "\n",
       "          const docLinkHtml = 'Like what you see? Visit the ' +\n",
       "            '<a target=\"_blank\" href=https://colab.research.google.com/notebooks/data_table.ipynb>data table notebook</a>'\n",
       "            + ' to learn more about interactive tables.';\n",
       "          element.innerHTML = '';\n",
       "          dataTable['output_type'] = 'display_data';\n",
       "          await google.colab.output.renderOutput(dataTable, element);\n",
       "          const docLink = document.createElement('div');\n",
       "          docLink.innerHTML = docLinkHtml;\n",
       "          element.appendChild(docLink);\n",
       "        }\n",
       "      </script>\n",
       "    </div>\n",
       "  </div>\n",
       "  "
      ],
      "text/plain": [
       "           Genre                                               Poem\n",
       "0          Music                                                NaN\n",
       "1          Music                In the thick brushthey spend the...\n",
       "2          Music     Storms are generous.                       ...\n",
       "3          Music   —After Ana Mendieta Did you carry around the ...\n",
       "4          Music   for Aja Sherrard at 20The portent may itself ...\n",
       "..           ...                                                ...\n",
       "145  Environment  To pick a tulip from the garden, the red one. ...\n",
       "146  Environment  We are as clouds that veil the midnight moon; ...\n",
       "147  Environment  When pulled, the spider web took another form....\n",
       "148  Environment  Whose woods these are I think I know. His hous...\n",
       "149  Environment  you can make the maples blazejust by stopping ...\n",
       "\n",
       "[991 rows x 2 columns]"
      ]
     },
     "execution_count": 237,
     "metadata": {},
     "output_type": "execute_result"
    }
   ],
   "source": [
    "# concatinating both dataframes into one single dataframe\n",
    "\n",
    "data = pd.concat([train_df, test_df], axis=0)\n",
    "\n",
    "data"
   ]
  },
  {
   "cell_type": "code",
   "execution_count": 238,
   "metadata": {
    "colab": {
     "base_uri": "https://localhost:8080/",
     "height": 423
    },
    "id": "kgXtjwudv5j1",
    "outputId": "31291e32-561e-4852-fe9a-5aad22dae8e5"
   },
   "outputs": [
    {
     "data": {
      "text/html": [
       "\n",
       "  <div id=\"df-08266f85-9388-4e94-9f30-3b2c9608389a\">\n",
       "    <div class=\"colab-df-container\">\n",
       "      <div>\n",
       "<style scoped>\n",
       "    .dataframe tbody tr th:only-of-type {\n",
       "        vertical-align: middle;\n",
       "    }\n",
       "\n",
       "    .dataframe tbody tr th {\n",
       "        vertical-align: top;\n",
       "    }\n",
       "\n",
       "    .dataframe thead th {\n",
       "        text-align: right;\n",
       "    }\n",
       "</style>\n",
       "<table border=\"1\" class=\"dataframe\">\n",
       "  <thead>\n",
       "    <tr style=\"text-align: right;\">\n",
       "      <th></th>\n",
       "      <th>Genre</th>\n",
       "      <th>Poem</th>\n",
       "    </tr>\n",
       "  </thead>\n",
       "  <tbody>\n",
       "    <tr>\n",
       "      <th>778</th>\n",
       "      <td>Environment</td>\n",
       "      <td>The flags of war like storm-birds fly, The cha...</td>\n",
       "    </tr>\n",
       "    <tr>\n",
       "      <th>270</th>\n",
       "      <td>Death</td>\n",
       "      <td>Admit it— you wanted the end with a serpentine...</td>\n",
       "    </tr>\n",
       "    <tr>\n",
       "      <th>699</th>\n",
       "      <td>Environment</td>\n",
       "      <td>I lie here thinking of you:—the stain of love ...</td>\n",
       "    </tr>\n",
       "    <tr>\n",
       "      <th>41</th>\n",
       "      <td>Music</td>\n",
       "      <td>As from dark orchard leaves, from quiet script...</td>\n",
       "    </tr>\n",
       "    <tr>\n",
       "      <th>59</th>\n",
       "      <td>Music</td>\n",
       "      <td>dear reader, with our heels digging into the g...</td>\n",
       "    </tr>\n",
       "    <tr>\n",
       "      <th>...</th>\n",
       "      <td>...</td>\n",
       "      <td>...</td>\n",
       "    </tr>\n",
       "    <tr>\n",
       "      <th>836</th>\n",
       "      <td>Environment</td>\n",
       "      <td>Why make so much of fragmentary blue In here a...</td>\n",
       "    </tr>\n",
       "    <tr>\n",
       "      <th>195</th>\n",
       "      <td>Music</td>\n",
       "      <td>They ask what I believe in— Sour milk: the cur...</td>\n",
       "    </tr>\n",
       "    <tr>\n",
       "      <th>197</th>\n",
       "      <td>Music</td>\n",
       "      <td>This fireman comes every afternoon to the café...</td>\n",
       "    </tr>\n",
       "    <tr>\n",
       "      <th>522</th>\n",
       "      <td>Affection</td>\n",
       "      <td>Room after room,I hunt the house throughWe inh...</td>\n",
       "    </tr>\n",
       "    <tr>\n",
       "      <th>558</th>\n",
       "      <td>Affection</td>\n",
       "      <td>Translated from Portuguese by John KeeneThe fi...</td>\n",
       "    </tr>\n",
       "  </tbody>\n",
       "</table>\n",
       "<p>991 rows × 2 columns</p>\n",
       "</div>\n",
       "      <button class=\"colab-df-convert\" onclick=\"convertToInteractive('df-08266f85-9388-4e94-9f30-3b2c9608389a')\"\n",
       "              title=\"Convert this dataframe to an interactive table.\"\n",
       "              style=\"display:none;\">\n",
       "        \n",
       "  <svg xmlns=\"http://www.w3.org/2000/svg\" height=\"24px\"viewBox=\"0 0 24 24\"\n",
       "       width=\"24px\">\n",
       "    <path d=\"M0 0h24v24H0V0z\" fill=\"none\"/>\n",
       "    <path d=\"M18.56 5.44l.94 2.06.94-2.06 2.06-.94-2.06-.94-.94-2.06-.94 2.06-2.06.94zm-11 1L8.5 8.5l.94-2.06 2.06-.94-2.06-.94L8.5 2.5l-.94 2.06-2.06.94zm10 10l.94 2.06.94-2.06 2.06-.94-2.06-.94-.94-2.06-.94 2.06-2.06.94z\"/><path d=\"M17.41 7.96l-1.37-1.37c-.4-.4-.92-.59-1.43-.59-.52 0-1.04.2-1.43.59L10.3 9.45l-7.72 7.72c-.78.78-.78 2.05 0 2.83L4 21.41c.39.39.9.59 1.41.59.51 0 1.02-.2 1.41-.59l7.78-7.78 2.81-2.81c.8-.78.8-2.07 0-2.86zM5.41 20L4 18.59l7.72-7.72 1.47 1.35L5.41 20z\"/>\n",
       "  </svg>\n",
       "      </button>\n",
       "      \n",
       "  <style>\n",
       "    .colab-df-container {\n",
       "      display:flex;\n",
       "      flex-wrap:wrap;\n",
       "      gap: 12px;\n",
       "    }\n",
       "\n",
       "    .colab-df-convert {\n",
       "      background-color: #E8F0FE;\n",
       "      border: none;\n",
       "      border-radius: 50%;\n",
       "      cursor: pointer;\n",
       "      display: none;\n",
       "      fill: #1967D2;\n",
       "      height: 32px;\n",
       "      padding: 0 0 0 0;\n",
       "      width: 32px;\n",
       "    }\n",
       "\n",
       "    .colab-df-convert:hover {\n",
       "      background-color: #E2EBFA;\n",
       "      box-shadow: 0px 1px 2px rgba(60, 64, 67, 0.3), 0px 1px 3px 1px rgba(60, 64, 67, 0.15);\n",
       "      fill: #174EA6;\n",
       "    }\n",
       "\n",
       "    [theme=dark] .colab-df-convert {\n",
       "      background-color: #3B4455;\n",
       "      fill: #D2E3FC;\n",
       "    }\n",
       "\n",
       "    [theme=dark] .colab-df-convert:hover {\n",
       "      background-color: #434B5C;\n",
       "      box-shadow: 0px 1px 3px 1px rgba(0, 0, 0, 0.15);\n",
       "      filter: drop-shadow(0px 1px 2px rgba(0, 0, 0, 0.3));\n",
       "      fill: #FFFFFF;\n",
       "    }\n",
       "  </style>\n",
       "\n",
       "      <script>\n",
       "        const buttonEl =\n",
       "          document.querySelector('#df-08266f85-9388-4e94-9f30-3b2c9608389a button.colab-df-convert');\n",
       "        buttonEl.style.display =\n",
       "          google.colab.kernel.accessAllowed ? 'block' : 'none';\n",
       "\n",
       "        async function convertToInteractive(key) {\n",
       "          const element = document.querySelector('#df-08266f85-9388-4e94-9f30-3b2c9608389a');\n",
       "          const dataTable =\n",
       "            await google.colab.kernel.invokeFunction('convertToInteractive',\n",
       "                                                     [key], {});\n",
       "          if (!dataTable) return;\n",
       "\n",
       "          const docLinkHtml = 'Like what you see? Visit the ' +\n",
       "            '<a target=\"_blank\" href=https://colab.research.google.com/notebooks/data_table.ipynb>data table notebook</a>'\n",
       "            + ' to learn more about interactive tables.';\n",
       "          element.innerHTML = '';\n",
       "          dataTable['output_type'] = 'display_data';\n",
       "          await google.colab.output.renderOutput(dataTable, element);\n",
       "          const docLink = document.createElement('div');\n",
       "          docLink.innerHTML = docLinkHtml;\n",
       "          element.appendChild(docLink);\n",
       "        }\n",
       "      </script>\n",
       "    </div>\n",
       "  </div>\n",
       "  "
      ],
      "text/plain": [
       "           Genre                                               Poem\n",
       "778  Environment  The flags of war like storm-birds fly, The cha...\n",
       "270        Death  Admit it— you wanted the end with a serpentine...\n",
       "699  Environment  I lie here thinking of you:—the stain of love ...\n",
       "41         Music  As from dark orchard leaves, from quiet script...\n",
       "59         Music  dear reader, with our heels digging into the g...\n",
       "..           ...                                                ...\n",
       "836  Environment  Why make so much of fragmentary blue In here a...\n",
       "195        Music  They ask what I believe in— Sour milk: the cur...\n",
       "197        Music  This fireman comes every afternoon to the café...\n",
       "522    Affection  Room after room,I hunt the house throughWe inh...\n",
       "558    Affection  Translated from Portuguese by John KeeneThe fi...\n",
       "\n",
       "[991 rows x 2 columns]"
      ]
     },
     "execution_count": 238,
     "metadata": {},
     "output_type": "execute_result"
    }
   ],
   "source": [
    "# shuffling the dataframe\n",
    "\n",
    "data = data.sample(frac=1)\n",
    "\n",
    "data"
   ]
  },
  {
   "cell_type": "code",
   "execution_count": 239,
   "metadata": {
    "colab": {
     "base_uri": "https://localhost:8080/"
    },
    "execution": {
     "iopub.execute_input": "2023-03-01T12:03:24.006445Z",
     "iopub.status.busy": "2023-03-01T12:03:24.006024Z",
     "iopub.status.idle": "2023-03-01T12:03:24.035619Z",
     "shell.execute_reply": "2023-03-01T12:03:24.034567Z",
     "shell.execute_reply.started": "2023-03-01T12:03:24.006409Z"
    },
    "id": "7lCEknwe2IIt",
    "outputId": "4f5f68cc-d5dc-4d91-9f86-31bf4f52d189"
   },
   "outputs": [
    {
     "name": "stdout",
     "output_type": "stream",
     "text": [
      "<class 'pandas.core.frame.DataFrame'>\n",
      "Int64Index: 991 entries, 778 to 558\n",
      "Data columns (total 2 columns):\n",
      " #   Column  Non-Null Count  Dtype \n",
      "---  ------  --------------  ----- \n",
      " 0   Genre   991 non-null    object\n",
      " 1   Poem    987 non-null    object\n",
      "dtypes: object(2)\n",
      "memory usage: 23.2+ KB\n"
     ]
    }
   ],
   "source": [
    "data.info()"
   ]
  },
  {
   "cell_type": "code",
   "execution_count": 240,
   "metadata": {
    "colab": {
     "base_uri": "https://localhost:8080/",
     "height": 175
    },
    "id": "qPsWTKsS2IIu",
    "outputId": "21bf2339-9998-45bc-e565-48cfb429ba6a"
   },
   "outputs": [
    {
     "data": {
      "text/html": [
       "\n",
       "  <div id=\"df-4a5a2794-6f3d-4258-8ab0-4b0670a79410\">\n",
       "    <div class=\"colab-df-container\">\n",
       "      <div>\n",
       "<style scoped>\n",
       "    .dataframe tbody tr th:only-of-type {\n",
       "        vertical-align: middle;\n",
       "    }\n",
       "\n",
       "    .dataframe tbody tr th {\n",
       "        vertical-align: top;\n",
       "    }\n",
       "\n",
       "    .dataframe thead th {\n",
       "        text-align: right;\n",
       "    }\n",
       "</style>\n",
       "<table border=\"1\" class=\"dataframe\">\n",
       "  <thead>\n",
       "    <tr style=\"text-align: right;\">\n",
       "      <th></th>\n",
       "      <th>Genre</th>\n",
       "      <th>Poem</th>\n",
       "    </tr>\n",
       "  </thead>\n",
       "  <tbody>\n",
       "    <tr>\n",
       "      <th>count</th>\n",
       "      <td>991</td>\n",
       "      <td>987</td>\n",
       "    </tr>\n",
       "    <tr>\n",
       "      <th>unique</th>\n",
       "      <td>4</td>\n",
       "      <td>909</td>\n",
       "    </tr>\n",
       "    <tr>\n",
       "      <th>top</th>\n",
       "      <td>Environment</td>\n",
       "      <td>Shiitake, velvet foot, hen of the woods, woode...</td>\n",
       "    </tr>\n",
       "    <tr>\n",
       "      <th>freq</th>\n",
       "      <td>252</td>\n",
       "      <td>3</td>\n",
       "    </tr>\n",
       "  </tbody>\n",
       "</table>\n",
       "</div>\n",
       "      <button class=\"colab-df-convert\" onclick=\"convertToInteractive('df-4a5a2794-6f3d-4258-8ab0-4b0670a79410')\"\n",
       "              title=\"Convert this dataframe to an interactive table.\"\n",
       "              style=\"display:none;\">\n",
       "        \n",
       "  <svg xmlns=\"http://www.w3.org/2000/svg\" height=\"24px\"viewBox=\"0 0 24 24\"\n",
       "       width=\"24px\">\n",
       "    <path d=\"M0 0h24v24H0V0z\" fill=\"none\"/>\n",
       "    <path d=\"M18.56 5.44l.94 2.06.94-2.06 2.06-.94-2.06-.94-.94-2.06-.94 2.06-2.06.94zm-11 1L8.5 8.5l.94-2.06 2.06-.94-2.06-.94L8.5 2.5l-.94 2.06-2.06.94zm10 10l.94 2.06.94-2.06 2.06-.94-2.06-.94-.94-2.06-.94 2.06-2.06.94z\"/><path d=\"M17.41 7.96l-1.37-1.37c-.4-.4-.92-.59-1.43-.59-.52 0-1.04.2-1.43.59L10.3 9.45l-7.72 7.72c-.78.78-.78 2.05 0 2.83L4 21.41c.39.39.9.59 1.41.59.51 0 1.02-.2 1.41-.59l7.78-7.78 2.81-2.81c.8-.78.8-2.07 0-2.86zM5.41 20L4 18.59l7.72-7.72 1.47 1.35L5.41 20z\"/>\n",
       "  </svg>\n",
       "      </button>\n",
       "      \n",
       "  <style>\n",
       "    .colab-df-container {\n",
       "      display:flex;\n",
       "      flex-wrap:wrap;\n",
       "      gap: 12px;\n",
       "    }\n",
       "\n",
       "    .colab-df-convert {\n",
       "      background-color: #E8F0FE;\n",
       "      border: none;\n",
       "      border-radius: 50%;\n",
       "      cursor: pointer;\n",
       "      display: none;\n",
       "      fill: #1967D2;\n",
       "      height: 32px;\n",
       "      padding: 0 0 0 0;\n",
       "      width: 32px;\n",
       "    }\n",
       "\n",
       "    .colab-df-convert:hover {\n",
       "      background-color: #E2EBFA;\n",
       "      box-shadow: 0px 1px 2px rgba(60, 64, 67, 0.3), 0px 1px 3px 1px rgba(60, 64, 67, 0.15);\n",
       "      fill: #174EA6;\n",
       "    }\n",
       "\n",
       "    [theme=dark] .colab-df-convert {\n",
       "      background-color: #3B4455;\n",
       "      fill: #D2E3FC;\n",
       "    }\n",
       "\n",
       "    [theme=dark] .colab-df-convert:hover {\n",
       "      background-color: #434B5C;\n",
       "      box-shadow: 0px 1px 3px 1px rgba(0, 0, 0, 0.15);\n",
       "      filter: drop-shadow(0px 1px 2px rgba(0, 0, 0, 0.3));\n",
       "      fill: #FFFFFF;\n",
       "    }\n",
       "  </style>\n",
       "\n",
       "      <script>\n",
       "        const buttonEl =\n",
       "          document.querySelector('#df-4a5a2794-6f3d-4258-8ab0-4b0670a79410 button.colab-df-convert');\n",
       "        buttonEl.style.display =\n",
       "          google.colab.kernel.accessAllowed ? 'block' : 'none';\n",
       "\n",
       "        async function convertToInteractive(key) {\n",
       "          const element = document.querySelector('#df-4a5a2794-6f3d-4258-8ab0-4b0670a79410');\n",
       "          const dataTable =\n",
       "            await google.colab.kernel.invokeFunction('convertToInteractive',\n",
       "                                                     [key], {});\n",
       "          if (!dataTable) return;\n",
       "\n",
       "          const docLinkHtml = 'Like what you see? Visit the ' +\n",
       "            '<a target=\"_blank\" href=https://colab.research.google.com/notebooks/data_table.ipynb>data table notebook</a>'\n",
       "            + ' to learn more about interactive tables.';\n",
       "          element.innerHTML = '';\n",
       "          dataTable['output_type'] = 'display_data';\n",
       "          await google.colab.output.renderOutput(dataTable, element);\n",
       "          const docLink = document.createElement('div');\n",
       "          docLink.innerHTML = docLinkHtml;\n",
       "          element.appendChild(docLink);\n",
       "        }\n",
       "      </script>\n",
       "    </div>\n",
       "  </div>\n",
       "  "
      ],
      "text/plain": [
       "              Genre                                               Poem\n",
       "count           991                                                987\n",
       "unique            4                                                909\n",
       "top     Environment  Shiitake, velvet foot, hen of the woods, woode...\n",
       "freq            252                                                  3"
      ]
     },
     "execution_count": 240,
     "metadata": {},
     "output_type": "execute_result"
    }
   ],
   "source": [
    "data.describe()"
   ]
  },
  {
   "cell_type": "code",
   "execution_count": 241,
   "metadata": {
    "colab": {
     "base_uri": "https://localhost:8080/"
    },
    "id": "NzIAf2oZ4jnK",
    "outputId": "e53d5cc0-56d4-4a5f-b62e-ae9f01015a1c"
   },
   "outputs": [
    {
     "data": {
      "text/plain": [
       "Genre    0\n",
       "Poem     4\n",
       "dtype: int64"
      ]
     },
     "execution_count": 241,
     "metadata": {},
     "output_type": "execute_result"
    }
   ],
   "source": [
    "data.isna().sum()"
   ]
  },
  {
   "cell_type": "code",
   "execution_count": 242,
   "metadata": {
    "colab": {
     "base_uri": "https://localhost:8080/"
    },
    "id": "SM1EPJO5Hi4A",
    "outputId": "09d4c78e-f5b8-4350-e572-e12026649a69"
   },
   "outputs": [
    {
     "name": "stdout",
     "output_type": "stream",
     "text": [
      "before:  (991, 2)\n",
      "after:  (984, 2)\n"
     ]
    }
   ],
   "source": [
    "print(\"before: \", data.shape)\n",
    "data.dropna(inplace=True)\n",
    "data = data.drop_duplicates()\n",
    "print(\"after: \", data.shape)"
   ]
  },
  {
   "cell_type": "code",
   "execution_count": 243,
   "metadata": {
    "colab": {
     "base_uri": "https://localhost:8080/",
     "height": 460
    },
    "id": "vGWBFM9Y7XMr",
    "outputId": "9b8dadf1-3a56-4291-e517-dc64316ec589"
   },
   "outputs": [
    {
     "name": "stdout",
     "output_type": "stream",
     "text": [
      "Environment    252\n",
      "Music          250\n",
      "Death          241\n",
      "Affection      241\n",
      "Name: Genre, dtype: int64\n"
     ]
    },
    {
     "name": "stderr",
     "output_type": "stream",
     "text": [
      "/usr/local/lib/python3.8/dist-packages/seaborn/_decorators.py:36: FutureWarning: Pass the following variable as a keyword arg: x. From version 0.12, the only valid positional argument will be `data`, and passing other arguments without an explicit keyword will result in an error or misinterpretation.\n",
      "  warnings.warn(\n"
     ]
    },
    {
     "data": {
      "text/plain": [
       "[Text(0.5, 1.0, 'data')]"
      ]
     },
     "execution_count": 243,
     "metadata": {},
     "output_type": "execute_result"
    },
    {
     "data": {
      "image/png": "[encoded data removed]",
      "text/plain": [
       "<Figure size 432x288 with 1 Axes>"
      ]
     },
     "metadata": {
      "needs_background": "light"
     },
     "output_type": "display_data"
    }
   ],
   "source": [
    "print(data.Genre.value_counts())\n",
    "sns.countplot(data.Genre).set(title=\"data\")"
   ]
  },
  {
   "cell_type": "code",
   "execution_count": 244,
   "metadata": {
    "colab": {
     "base_uri": "https://localhost:8080/",
     "height": 478
    },
    "id": "NRjaLxdF-OPO",
    "outputId": "74e49af0-d75f-41ad-f4e5-e4bd12f94111"
   },
   "outputs": [
    {
     "name": "stderr",
     "output_type": "stream",
     "text": [
      "/usr/local/lib/python3.8/dist-packages/pandas/core/generic.py:5516: SettingWithCopyWarning: \n",
      "A value is trying to be set on a copy of a slice from a DataFrame.\n",
      "Try using .loc[row_indexer,col_indexer] = value instead\n",
      "\n",
      "See the caveats in the documentation: https://pandas.pydata.org/pandas-docs/stable/user_guide/indexing.html#returning-a-view-versus-a-copy\n",
      "  self[name] = value\n",
      "/usr/local/lib/python3.8/dist-packages/seaborn/_decorators.py:36: FutureWarning: Pass the following variable as a keyword arg: x. From version 0.12, the only valid positional argument will be `data`, and passing other arguments without an explicit keyword will result in an error or misinterpretation.\n",
      "  warnings.warn(\n"
     ]
    },
    {
     "data": {
      "text/plain": [
       "[Text(0.5, 1.0, 'data with new output labels')]"
      ]
     },
     "execution_count": 244,
     "metadata": {},
     "output_type": "execute_result"
    },
    {
     "data": {
      "image/png": "[encoded data removed]",
      "text/plain": [
       "<Figure size 432x288 with 1 Axes>"
      ]
     },
     "metadata": {
      "needs_background": "light"
     },
     "output_type": "display_data"
    }
   ],
   "source": [
    "# converting the names of the Genre in respective output labels in integer format\n",
    "\n",
    "data.Genre = data.Genre.map({'Music': 0, 'Death': 1, 'Affection': 2, 'Environment': 3})\n",
    "\n",
    "sns.countplot(data.Genre).set(title='data with new output labels')"
   ]
  },
  {
   "cell_type": "code",
   "execution_count": 245,
   "metadata": {
    "colab": {
     "base_uri": "https://localhost:8080/"
    },
    "id": "IarDwSba_kS1",
    "outputId": "02e92ea4-c1f5-48fa-857b-b9579f1737a6"
   },
   "outputs": [
    {
     "name": "stderr",
     "output_type": "stream",
     "text": [
      "[nltk_data] Downloading package wordnet to /root/nltk_data...\n",
      "[nltk_data]   Package wordnet is already up-to-date!\n",
      "[nltk_data] Downloading package omw-1.4 to /root/nltk_data...\n",
      "[nltk_data]   Package omw-1.4 is already up-to-date!\n",
      "[nltk_data] Downloading package stopwords to /root/nltk_data...\n",
      "[nltk_data]   Package stopwords is already up-to-date!\n",
      "[nltk_data] Downloading package punkt to /root/nltk_data...\n",
      "[nltk_data]   Package punkt is already up-to-date!\n"
     ]
    },
    {
     "data": {
      "text/plain": [
       "True"
      ]
     },
     "execution_count": 245,
     "metadata": {},
     "output_type": "execute_result"
    }
   ],
   "source": [
    "from nltk.corpus import stopwords\n",
    "from nltk.tokenize import word_tokenize\n",
    "from nltk.stem import WordNetLemmatizer\n",
    "from sklearn.feature_extraction.text import TfidfVectorizer\n",
    "\n",
    "nltk.download('wordnet')\n",
    "nltk.download('omw-1.4')\n",
    "nltk.download('stopwords')\n",
    "nltk.download('punkt')"
   ]
  },
  {
   "cell_type": "code",
   "execution_count": 246,
   "metadata": {
    "id": "hjafAy-EDlgI"
   },
   "outputs": [],
   "source": [
    "# tokenization of words\n",
    "\n",
    "poems = data.Poem\n",
    "poems = poems.apply(lambda x: ' '.join([w for w in word_tokenize(x)]))"
   ]
  },
  {
   "cell_type": "code",
   "execution_count": 247,
   "metadata": {
    "id": "nhPqsabYE2D5"
   },
   "outputs": [],
   "source": [
    "# lemmatization of the words\n",
    "\n",
    "lem = WordNetLemmatizer()\n",
    "\n",
    "poems = poems.apply(lambda x: [lem.lemmatize(word.lower()) for word in word_tokenize(x)]).apply(lambda x: ' '.join(x))"
   ]
  },
  {
   "cell_type": "code",
   "execution_count": 248,
   "metadata": {
    "id": "awBld8L73BTD"
   },
   "outputs": [],
   "source": [
    "# removing stop words from each poem\n",
    "\n",
    "stops = stopwords.words('english')\n",
    "\n",
    "poems = poems.apply(lambda x: [word for word in word_tokenize(x) if x not in stops]).apply(lambda x: ' '.join(x))"
   ]
  },
  {
   "cell_type": "code",
   "execution_count": 249,
   "metadata": {
    "id": "Lna60FUJ-11f"
   },
   "outputs": [],
   "source": [
    "# vectorization\n",
    "\n",
    "vec = TfidfVectorizer()\n",
    "training_data = vec.fit_transform(poems)"
   ]
  },
  {
   "cell_type": "code",
   "execution_count": 250,
   "metadata": {
    "colab": {
     "base_uri": "https://localhost:8080/"
    },
    "id": "Mw-phwir6e0D",
    "outputId": "4024deda-b477-436d-8b3b-2926bc234dee"
   },
   "outputs": [
    {
     "name": "stdout",
     "output_type": "stream",
     "text": [
      "  (0, 2603)\t0.19081882040205192\n",
      "  (0, 3355)\t0.1412076865403022\n",
      "  (0, 3370)\t0.1509540387543368\n",
      "  (0, 7539)\t0.09239254267889702\n",
      "  (0, 3601)\t0.11208954468329425\n",
      "  (0, 3141)\t0.1340974904343945\n",
      "  (0, 8118)\t0.11904337175201901\n",
      "  (0, 6428)\t0.09696755278860382\n",
      "  (0, 7006)\t0.09658618685760609\n",
      "  (0, 3463)\t0.1576149957169318\n",
      "  (0, 925)\t0.12087199158433028\n",
      "  (0, 555)\t0.16653301567532772\n",
      "  (0, 7257)\t0.15407581626945038\n",
      "  (0, 3226)\t0.19081882040205192\n",
      "  (0, 776)\t0.13924349365063104\n",
      "  (0, 2424)\t0.13258253668803605\n",
      "  (0, 7506)\t0.11904337175201901\n",
      "  (0, 8246)\t0.12608569464561176\n",
      "  (0, 5657)\t0.18007218061134472\n",
      "  (0, 263)\t0.14563536733833138\n",
      "  (0, 3473)\t0.17426540949940247\n",
      "  (0, 3974)\t0.12387570888230275\n",
      "  (0, 4860)\t0.14332917647874321\n",
      "  (0, 5269)\t0.16170067854504397\n",
      "  (0, 1112)\t0.1509540387543368\n",
      "  :\t:\n",
      "  (983, 5545)\t0.16880143936391143\n",
      "  (983, 7703)\t0.15828200489253888\n",
      "  (983, 4551)\t0.16880143936391143\n",
      "  (983, 3070)\t0.11831651750300132\n",
      "  (983, 4253)\t0.12704599279888495\n",
      "  (983, 2720)\t0.1165265583275124\n",
      "  (983, 4003)\t0.4350872544189841\n",
      "  (983, 7576)\t0.18908832589083585\n",
      "  (983, 3396)\t0.08555129332975406\n",
      "  (983, 8254)\t0.0924105680487065\n",
      "  (983, 7450)\t0.10842227274508945\n",
      "  (983, 7457)\t0.07769749133399644\n",
      "  (983, 8319)\t0.0892035130308011\n",
      "  (983, 2731)\t0.20866545774041925\n",
      "  (983, 4822)\t0.11137490342194212\n",
      "  (983, 8104)\t0.2222649972570963\n",
      "  (983, 1075)\t0.15202199673611458\n",
      "  (983, 4522)\t0.06756820132231096\n",
      "  (983, 2957)\t0.06628990742969722\n",
      "  (983, 7438)\t0.0825830177173925\n",
      "  (983, 7408)\t0.05885745148206447\n",
      "  (983, 5072)\t0.06214844415053997\n",
      "  (983, 7604)\t0.04106236114988926\n",
      "  (983, 3860)\t0.10382822548458719\n",
      "  (983, 7412)\t0.05703427744558199\n"
     ]
    }
   ],
   "source": [
    "print(training_data)"
   ]
  },
  {
   "cell_type": "code",
   "execution_count": 251,
   "metadata": {
    "colab": {
     "base_uri": "https://localhost:8080/"
    },
    "id": "1zub16Bjm_F5",
    "outputId": "4e2d7060-b986-4ca9-f4c0-2f369d12ca98"
   },
   "outputs": [
    {
     "data": {
      "text/plain": [
       "array([3, 1, 3, 0, 0, 2, 0, 3, 3, 1, 3, 1, 3, 2, 0, 1, 0, 0, 3, 1, 2, 3,\n",
       "       2, 1, 0, 2, 1, 3, 3, 2, 1, 3, 0, 1, 3, 2, 0, 1, 1, 3, 3, 1, 1, 3,\n",
       "       3, 1, 0, 2, 0, 2, 2, 0, 0, 1, 0, 0, 0, 2, 0, 0, 3, 1, 2, 1, 2, 0,\n",
       "       1, 0, 3, 1, 0, 1, 1, 3, 2, 1, 2, 3, 0, 2, 1, 2, 2, 3, 3, 2, 0, 1,\n",
       "       2, 1, 1, 1, 0, 0, 1, 0, 2, 0, 0, 3, 2, 1, 0, 1, 0, 1, 1, 3, 2, 1,\n",
       "       0, 3, 1, 0, 1, 1, 3, 0, 1, 2, 2, 1, 0, 1, 1, 1, 2, 3, 2, 2, 0, 3,\n",
       "       0, 3, 0, 2, 3, 0, 2, 1, 0, 3, 2, 3, 3, 1, 1, 1, 0, 2, 2, 0, 3, 1,\n",
       "       1, 1, 1, 2, 1, 3, 1, 1, 0, 1, 1, 2, 1, 2, 0, 1, 0, 3, 3, 0, 0, 2,\n",
       "       2, 2, 2, 0, 2, 2, 1, 2, 0, 0, 1, 2, 0, 2, 1, 3, 3, 2, 0, 3, 2, 0,\n",
       "       0, 1, 2, 1, 3, 3, 1, 1, 3, 3, 0, 3, 1, 0, 3, 0, 0, 3, 2, 2, 1, 3,\n",
       "       0, 0, 1, 0, 3, 3, 0, 1, 0, 1, 1, 0, 2, 1, 1, 3, 1, 0, 0, 3, 2, 1,\n",
       "       3, 0, 3, 2, 3, 0, 3, 1, 3, 2, 2, 2, 3, 1, 3, 0, 0, 3, 1, 1, 3, 3,\n",
       "       0, 3, 3, 3, 0, 2, 3, 1, 0, 3, 0, 1, 2, 2, 3, 2, 0, 2, 0, 3, 1, 0,\n",
       "       0, 2, 1, 3, 0, 0, 3, 0, 0, 1, 0, 2, 2, 2, 2, 1, 1, 2, 2, 3, 1, 1,\n",
       "       1, 2, 2, 3, 3, 0, 3, 1, 2, 1, 1, 1, 1, 3, 0, 1, 0, 3, 1, 3, 1, 2,\n",
       "       2, 1, 3, 1, 2, 1, 1, 2, 3, 1, 0, 0, 0, 3, 0, 3, 3, 2, 3, 1, 2, 0,\n",
       "       3, 1, 3, 3, 2, 2, 2, 1, 3, 3, 3, 3, 0, 3, 2, 1, 2, 3, 2, 2, 3, 2,\n",
       "       1, 3, 3, 0, 3, 3, 3, 1, 3, 0, 2, 2, 2, 1, 3, 1, 2, 3, 0, 2, 3, 2,\n",
       "       0, 3, 2, 1, 1, 3, 3, 2, 2, 0, 0, 0, 1, 3, 1, 2, 3, 2, 3, 0, 0, 1,\n",
       "       3, 3, 1, 2, 0, 0, 3, 2, 1, 3, 2, 2, 1, 1, 1, 0, 0, 1, 0, 1, 3, 3,\n",
       "       1, 0, 3, 0, 0, 0, 3, 1, 0, 3, 1, 2, 1, 3, 0, 0, 3, 3, 1, 3, 0, 1,\n",
       "       1, 2, 3, 2, 2, 1, 1, 2, 3, 0, 3, 2, 1, 0, 2, 3, 0, 1, 3, 3, 2, 2,\n",
       "       0, 2, 2, 3, 0, 2, 3, 3, 0, 0, 0, 3, 3, 0, 1, 0, 3, 0, 1, 2, 3, 3,\n",
       "       2, 0, 2, 1, 0, 0, 2, 3, 1, 1, 0, 1, 3, 2, 1, 0, 3, 2, 2, 2, 0, 0,\n",
       "       3, 3, 0, 0, 2, 1, 3, 3, 3, 0, 2, 1, 3, 2, 0, 3, 3, 3, 1, 0, 1, 1,\n",
       "       0, 2, 0, 3, 3, 2, 2, 3, 0, 2, 2, 2, 1, 0, 0, 0, 2, 0, 2, 0, 3, 1,\n",
       "       1, 0, 3, 1, 0, 3, 2, 2, 1, 3, 2, 1, 3, 3, 2, 1, 0, 2, 1, 3, 3, 3,\n",
       "       0, 1, 2, 0, 3, 0, 0, 0, 2, 3, 0, 3, 2, 0, 1, 2, 3, 1, 2, 3, 0, 1,\n",
       "       1, 3, 2, 2, 1, 1, 1, 3, 1, 3, 2, 1, 0, 2, 0, 0, 2, 2, 1, 3, 3, 3,\n",
       "       2, 0, 2, 3, 3, 0, 2, 3, 3, 2, 2, 3, 2, 0, 0, 3, 0, 2, 2, 3, 2, 3,\n",
       "       2, 2, 1, 0, 1, 2, 1, 0, 3, 2, 0, 2, 0, 0, 2, 0, 0, 3, 2, 0, 2, 3,\n",
       "       1, 3, 3, 2, 2, 0, 3, 1, 2, 1, 2, 3, 1, 3, 0, 0, 2, 0, 1, 1, 2, 1,\n",
       "       1, 2, 2, 3, 3, 2, 2, 0, 0, 1, 0, 0, 3, 1, 2, 3, 0, 3, 0, 0, 3, 0,\n",
       "       3, 2, 1, 2, 0, 1, 0, 0, 2, 1, 3, 2, 2, 3, 0, 0, 1, 0, 2, 3, 1, 1,\n",
       "       0, 2, 0, 0, 0, 1, 3, 1, 1, 2, 1, 0, 0, 1, 2, 1, 1, 0, 2, 2, 2, 0,\n",
       "       0, 2, 0, 3, 0, 2, 1, 2, 0, 3, 1, 1, 3, 2, 2, 2, 1, 3, 1, 2, 0, 2,\n",
       "       2, 2, 1, 2, 3, 2, 0, 1, 1, 0, 3, 3, 0, 2, 0, 1, 0, 0, 1, 3, 3, 1,\n",
       "       3, 2, 1, 1, 3, 2, 0, 1, 2, 0, 2, 3, 1, 1, 3, 2, 3, 1, 2, 0, 2, 3,\n",
       "       1, 3, 0, 1, 1, 1, 1, 1, 0, 0, 0, 1, 0, 3, 0, 0, 1, 3, 2, 1, 1, 1,\n",
       "       2, 3, 3, 2, 0, 2, 2, 3, 2, 1, 1, 3, 3, 0, 0, 3, 2, 2, 2, 2, 3, 0,\n",
       "       1, 0, 0, 1, 0, 2, 0, 3, 3, 2, 2, 0, 3, 2, 2, 1, 1, 3, 3, 0, 1, 3,\n",
       "       3, 2, 3, 3, 0, 1, 0, 0, 2, 1, 3, 0, 0, 1, 3, 0, 2, 0, 1, 3, 3, 3,\n",
       "       1, 2, 0, 1, 1, 3, 1, 1, 2, 0, 0, 3, 3, 0, 2, 2, 2, 1, 2, 3, 1, 0,\n",
       "       2, 3, 0, 2, 1, 3, 1, 3, 3, 0, 3, 0, 0, 2, 1, 1, 3, 2, 1, 3, 0, 3,\n",
       "       1, 1, 2, 0, 2, 0, 3, 3, 0, 2, 2, 3, 0, 0, 2, 2])"
      ]
     },
     "execution_count": 251,
     "metadata": {},
     "output_type": "execute_result"
    }
   ],
   "source": [
    "y = data.Genre.values\n",
    "\n",
    "y"
   ]
  },
  {
   "cell_type": "code",
   "execution_count": 252,
   "metadata": {
    "id": "EdHs-tAMmMBs"
   },
   "outputs": [],
   "source": [
    "from sklearn.model_selection import train_test_split\n",
    "\n",
    "x_train, x_test, y_train, y_test = train_test_split(training_data, y, test_size=0.30, random_state=1)"
   ]
  },
  {
   "cell_type": "code",
   "execution_count": 253,
   "metadata": {
    "id": "EL0TwkSe_qxI"
   },
   "outputs": [],
   "source": [
    "# Training the data using various Machine Learning Models\n",
    "\n",
    "from sklearn.neighbors import KNeighborsClassifier\n",
    "from sklearn.naive_bayes import MultinomialNB\n",
    "from sklearn.svm import SVC\n",
    "from sklearn.tree import DecisionTreeClassifier\n",
    "from sklearn.ensemble import RandomForestClassifier\n",
    "from sklearn.metrics import classification_report, confusion_matrix, ConfusionMatrixDisplay, accuracy_score"
   ]
  },
  {
   "cell_type": "code",
   "execution_count": 254,
   "metadata": {
    "colab": {
     "base_uri": "https://localhost:8080/"
    },
    "id": "9gGdeOD5KLIq",
    "outputId": "5474692b-1284-47ea-f140-7d5f138cf591"
   },
   "outputs": [
    {
     "name": "stdout",
     "output_type": "stream",
     "text": [
      "----------------------------------------------------------------------------------------------------\n",
      "Model: KNeighborsClassifier()\n",
      "\n",
      "0.32094594594594594\n",
      "\n",
      "[[20 22 20 12]\n",
      " [19 16 26  7]\n",
      " [ 8 18 39  8]\n",
      " [16 25 20 20]]\n",
      "\n",
      "              precision    recall  f1-score   support\n",
      "\n",
      "           0       0.32      0.27      0.29        74\n",
      "           1       0.20      0.24      0.21        68\n",
      "           2       0.37      0.53      0.44        73\n",
      "           3       0.43      0.25      0.31        81\n",
      "\n",
      "    accuracy                           0.32       296\n",
      "   macro avg       0.33      0.32      0.31       296\n",
      "weighted avg       0.33      0.32      0.32       296\n",
      "\n",
      "\n",
      "----------------------------------------------------------------------------------------------------\n",
      "Model: MultinomialNB()\n",
      "\n",
      "0.3952702702702703\n",
      "\n",
      "[[28 17 18 11]\n",
      " [25 20 16  7]\n",
      " [13 14 38  8]\n",
      " [14 15 21 31]]\n",
      "\n",
      "              precision    recall  f1-score   support\n",
      "\n",
      "           0       0.35      0.38      0.36        74\n",
      "           1       0.30      0.29      0.30        68\n",
      "           2       0.41      0.52      0.46        73\n",
      "           3       0.54      0.38      0.45        81\n",
      "\n",
      "    accuracy                           0.40       296\n",
      "   macro avg       0.40      0.39      0.39       296\n",
      "weighted avg       0.41      0.40      0.40       296\n",
      "\n",
      "\n",
      "----------------------------------------------------------------------------------------------------\n",
      "Model: SVC()\n",
      "\n",
      "0.3547297297297297\n",
      "\n",
      "[[40 11  5 18]\n",
      " [39  9  6 14]\n",
      " [23 14 22 14]\n",
      " [34  6  7 34]]\n",
      "\n",
      "              precision    recall  f1-score   support\n",
      "\n",
      "           0       0.29      0.54      0.38        74\n",
      "           1       0.23      0.13      0.17        68\n",
      "           2       0.55      0.30      0.39        73\n",
      "           3       0.42      0.42      0.42        81\n",
      "\n",
      "    accuracy                           0.35       296\n",
      "   macro avg       0.37      0.35      0.34       296\n",
      "weighted avg       0.38      0.35      0.35       296\n",
      "\n",
      "\n",
      "----------------------------------------------------------------------------------------------------\n",
      "Model: DecisionTreeClassifier()\n",
      "\n",
      "0.3277027027027027\n",
      "\n",
      "[[25 15 15 19]\n",
      " [21 16 13 18]\n",
      " [20 13 31  9]\n",
      " [24 18 14 25]]\n",
      "\n",
      "              precision    recall  f1-score   support\n",
      "\n",
      "           0       0.28      0.34      0.30        74\n",
      "           1       0.26      0.24      0.25        68\n",
      "           2       0.42      0.42      0.42        73\n",
      "           3       0.35      0.31      0.33        81\n",
      "\n",
      "    accuracy                           0.33       296\n",
      "   macro avg       0.33      0.33      0.33       296\n",
      "weighted avg       0.33      0.33      0.33       296\n",
      "\n",
      "\n",
      "----------------------------------------------------------------------------------------------------\n",
      "Model: RandomForestClassifier()\n",
      "\n",
      "0.38175675675675674\n",
      "\n",
      "[[32 12 13 17]\n",
      " [31 12 10 15]\n",
      " [20 17 26 10]\n",
      " [23  8  7 43]]\n",
      "\n",
      "              precision    recall  f1-score   support\n",
      "\n",
      "           0       0.30      0.43      0.36        74\n",
      "           1       0.24      0.18      0.21        68\n",
      "           2       0.46      0.36      0.40        73\n",
      "           3       0.51      0.53      0.52        81\n",
      "\n",
      "    accuracy                           0.38       296\n",
      "   macro avg       0.38      0.37      0.37       296\n",
      "weighted avg       0.38      0.38      0.38       296\n",
      "\n",
      "\n"
     ]
    }
   ],
   "source": [
    "classifiers = [KNeighborsClassifier(n_neighbors=5), \n",
    "               MultinomialNB(), \n",
    "               SVC(), \n",
    "               DecisionTreeClassifier(), \n",
    "               RandomForestClassifier()]\n",
    "\n",
    "for clf in classifiers:\n",
    "  clf.fit(x_train, y_train)\n",
    "  y_pred = clf.predict(x_test)\n",
    "  print('-' * 100)\n",
    "  print(f\"Model: {clf}\")\n",
    "  print()\n",
    "  print(accuracy_score(y_test, y_pred), end='\\n')\n",
    "  print()\n",
    "  print(confusion_matrix(y_test, y_pred), end='\\n')\n",
    "  print()\n",
    "  print(classification_report(y_test, y_pred))\n",
    "  print()"
   ]
  }
 ],
 "metadata": {
  "colab": {
   "provenance": []
  },
  "kernelspec": {
   "display_name": "Python 3 (ipykernel)",
   "language": "python",
   "name": "python3"
  },
  "language_info": {
   "codemirror_mode": {
    "name": "ipython",
    "version": 3
   },
   "file_extension": ".py",
   "mimetype": "text/x-python",
   "name": "python",
   "nbconvert_exporter": "python",
   "pygments_lexer": "ipython3",
   "version": "3.8.10"
  }
 },
 "nbformat": 4,
 "nbformat_minor": 1
}
